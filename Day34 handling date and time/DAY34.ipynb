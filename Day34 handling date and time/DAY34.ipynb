{
 "cells": [
  {
   "cell_type": "code",
   "execution_count": 1,
   "id": "2ca6c71c-a196-4821-accf-0601cc2c7307",
   "metadata": {},
   "outputs": [],
   "source": [
    "import pandas as pd\n",
    "import numpy as np"
   ]
  },
  {
   "cell_type": "code",
   "execution_count": 2,
   "id": "d4ce1759-dfcb-408e-bbbb-88c3c0cac901",
   "metadata": {},
   "outputs": [],
   "source": [
    "date  = pd.read_csv('orders.csv')\n",
    "time = pd.read_csv('messages.csv')"
   ]
  },
  {
   "cell_type": "code",
   "execution_count": 4,
   "id": "60d22e74-6289-4a46-a703-638b045e001b",
   "metadata": {},
   "outputs": [
    {
     "data": {
      "text/html": [
       "<div>\n",
       "<style scoped>\n",
       "    .dataframe tbody tr th:only-of-type {\n",
       "        vertical-align: middle;\n",
       "    }\n",
       "\n",
       "    .dataframe tbody tr th {\n",
       "        vertical-align: top;\n",
       "    }\n",
       "\n",
       "    .dataframe thead th {\n",
       "        text-align: right;\n",
       "    }\n",
       "</style>\n",
       "<table border=\"1\" class=\"dataframe\">\n",
       "  <thead>\n",
       "    <tr style=\"text-align: right;\">\n",
       "      <th></th>\n",
       "      <th>date</th>\n",
       "      <th>product_id</th>\n",
       "      <th>city_id</th>\n",
       "      <th>orders</th>\n",
       "    </tr>\n",
       "  </thead>\n",
       "  <tbody>\n",
       "    <tr>\n",
       "      <th>0</th>\n",
       "      <td>2019-12-10</td>\n",
       "      <td>5628</td>\n",
       "      <td>25</td>\n",
       "      <td>3</td>\n",
       "    </tr>\n",
       "    <tr>\n",
       "      <th>1</th>\n",
       "      <td>2018-08-15</td>\n",
       "      <td>3646</td>\n",
       "      <td>14</td>\n",
       "      <td>157</td>\n",
       "    </tr>\n",
       "    <tr>\n",
       "      <th>2</th>\n",
       "      <td>2018-10-23</td>\n",
       "      <td>1859</td>\n",
       "      <td>25</td>\n",
       "      <td>1</td>\n",
       "    </tr>\n",
       "    <tr>\n",
       "      <th>3</th>\n",
       "      <td>2019-08-17</td>\n",
       "      <td>7292</td>\n",
       "      <td>25</td>\n",
       "      <td>1</td>\n",
       "    </tr>\n",
       "    <tr>\n",
       "      <th>4</th>\n",
       "      <td>2019-01-06</td>\n",
       "      <td>4344</td>\n",
       "      <td>25</td>\n",
       "      <td>3</td>\n",
       "    </tr>\n",
       "  </tbody>\n",
       "</table>\n",
       "</div>"
      ],
      "text/plain": [
       "         date  product_id  city_id  orders\n",
       "0  2019-12-10        5628       25       3\n",
       "1  2018-08-15        3646       14     157\n",
       "2  2018-10-23        1859       25       1\n",
       "3  2019-08-17        7292       25       1\n",
       "4  2019-01-06        4344       25       3"
      ]
     },
     "execution_count": 4,
     "metadata": {},
     "output_type": "execute_result"
    }
   ],
   "source": [
    "date.head()"
   ]
  },
  {
   "cell_type": "code",
   "execution_count": 5,
   "id": "594cce2b-7172-419b-a51d-52e7570307c0",
   "metadata": {},
   "outputs": [
    {
     "data": {
      "text/html": [
       "<div>\n",
       "<style scoped>\n",
       "    .dataframe tbody tr th:only-of-type {\n",
       "        vertical-align: middle;\n",
       "    }\n",
       "\n",
       "    .dataframe tbody tr th {\n",
       "        vertical-align: top;\n",
       "    }\n",
       "\n",
       "    .dataframe thead th {\n",
       "        text-align: right;\n",
       "    }\n",
       "</style>\n",
       "<table border=\"1\" class=\"dataframe\">\n",
       "  <thead>\n",
       "    <tr style=\"text-align: right;\">\n",
       "      <th></th>\n",
       "      <th>date</th>\n",
       "      <th>msg</th>\n",
       "    </tr>\n",
       "  </thead>\n",
       "  <tbody>\n",
       "    <tr>\n",
       "      <th>0</th>\n",
       "      <td>2013-12-15 00:50:00</td>\n",
       "      <td>ищу на сегодня мужика 37</td>\n",
       "    </tr>\n",
       "    <tr>\n",
       "      <th>1</th>\n",
       "      <td>2014-04-29 23:40:00</td>\n",
       "      <td>ПАРЕНЬ БИ ИЩЕТ ДРУГА СЕЙЧАС!! СМС ММС 0955532826</td>\n",
       "    </tr>\n",
       "    <tr>\n",
       "      <th>2</th>\n",
       "      <td>2012-12-30 00:21:00</td>\n",
       "      <td>Днепр.м 43 позн.с д/ж *.о  067.16.34.576</td>\n",
       "    </tr>\n",
       "    <tr>\n",
       "      <th>3</th>\n",
       "      <td>2014-11-28 00:31:00</td>\n",
       "      <td>КИЕВ ИЩУ Д/Ж ДО 45 МНЕ СЕЙЧАС СКУЧНО 093 629 9...</td>\n",
       "    </tr>\n",
       "    <tr>\n",
       "      <th>4</th>\n",
       "      <td>2013-10-26 23:11:00</td>\n",
       "      <td>Зая я тебя никогда не обижу  люблю тебя!)  Даше</td>\n",
       "    </tr>\n",
       "  </tbody>\n",
       "</table>\n",
       "</div>"
      ],
      "text/plain": [
       "                  date                                                msg\n",
       "0  2013-12-15 00:50:00                           ищу на сегодня мужика 37\n",
       "1  2014-04-29 23:40:00   ПАРЕНЬ БИ ИЩЕТ ДРУГА СЕЙЧАС!! СМС ММС 0955532826\n",
       "2  2012-12-30 00:21:00           Днепр.м 43 позн.с д/ж *.о  067.16.34.576\n",
       "3  2014-11-28 00:31:00  КИЕВ ИЩУ Д/Ж ДО 45 МНЕ СЕЙЧАС СКУЧНО 093 629 9...\n",
       "4  2013-10-26 23:11:00    Зая я тебя никогда не обижу  люблю тебя!)  Даше"
      ]
     },
     "execution_count": 5,
     "metadata": {},
     "output_type": "execute_result"
    }
   ],
   "source": [
    "time.head()"
   ]
  },
  {
   "cell_type": "code",
   "execution_count": 7,
   "id": "04e94b32-2dd9-4653-a23b-535ba55fe0dd",
   "metadata": {},
   "outputs": [
    {
     "name": "stdout",
     "output_type": "stream",
     "text": [
      "<class 'pandas.core.frame.DataFrame'>\n",
      "RangeIndex: 1000 entries, 0 to 999\n",
      "Data columns (total 4 columns):\n",
      " #   Column      Non-Null Count  Dtype \n",
      "---  ------      --------------  ----- \n",
      " 0   date        1000 non-null   object\n",
      " 1   product_id  1000 non-null   int64 \n",
      " 2   city_id     1000 non-null   int64 \n",
      " 3   orders      1000 non-null   int64 \n",
      "dtypes: int64(3), object(1)\n",
      "memory usage: 31.4+ KB\n"
     ]
    }
   ],
   "source": [
    "date.info()"
   ]
  },
  {
   "cell_type": "code",
   "execution_count": 12,
   "id": "f332c5c8-f211-4e67-9143-604733cb407c",
   "metadata": {},
   "outputs": [],
   "source": [
    "date['date'] = pd.to_datetime(date['date'])"
   ]
  },
  {
   "cell_type": "code",
   "execution_count": 13,
   "id": "d2c4c583-811f-426b-a0b3-8f78190d1a3d",
   "metadata": {},
   "outputs": [
    {
     "name": "stdout",
     "output_type": "stream",
     "text": [
      "<class 'pandas.core.frame.DataFrame'>\n",
      "RangeIndex: 1000 entries, 0 to 999\n",
      "Data columns (total 4 columns):\n",
      " #   Column      Non-Null Count  Dtype         \n",
      "---  ------      --------------  -----         \n",
      " 0   date        1000 non-null   datetime64[ns]\n",
      " 1   product_id  1000 non-null   int64         \n",
      " 2   city_id     1000 non-null   int64         \n",
      " 3   orders      1000 non-null   int64         \n",
      "dtypes: datetime64[ns](1), int64(3)\n",
      "memory usage: 31.4 KB\n"
     ]
    }
   ],
   "source": [
    "date.info()"
   ]
  },
  {
   "cell_type": "code",
   "execution_count": 17,
   "id": "4dbb9a33-d628-47ba-89b8-3042399588c4",
   "metadata": {},
   "outputs": [],
   "source": [
    "time['date'] = pd.to_datetime(time['date'])"
   ]
  },
  {
   "cell_type": "code",
   "execution_count": 31,
   "id": "4c841a71-a57a-499c-8deb-0130094b56f8",
   "metadata": {},
   "outputs": [],
   "source": [
    "date['day_name'] = date['date'].dt.day_name()"
   ]
  },
  {
   "cell_type": "code",
   "execution_count": 32,
   "id": "7b83d7d8-9da7-427d-a14f-53ddd7047dde",
   "metadata": {},
   "outputs": [
    {
     "data": {
      "text/html": [
       "<div>\n",
       "<style scoped>\n",
       "    .dataframe tbody tr th:only-of-type {\n",
       "        vertical-align: middle;\n",
       "    }\n",
       "\n",
       "    .dataframe tbody tr th {\n",
       "        vertical-align: top;\n",
       "    }\n",
       "\n",
       "    .dataframe thead th {\n",
       "        text-align: right;\n",
       "    }\n",
       "</style>\n",
       "<table border=\"1\" class=\"dataframe\">\n",
       "  <thead>\n",
       "    <tr style=\"text-align: right;\">\n",
       "      <th></th>\n",
       "      <th>date</th>\n",
       "      <th>product_id</th>\n",
       "      <th>city_id</th>\n",
       "      <th>orders</th>\n",
       "      <th>data_year</th>\n",
       "      <th>data_month</th>\n",
       "      <th>data_day</th>\n",
       "      <th>month_name</th>\n",
       "      <th>dayofweek</th>\n",
       "      <th>day_name</th>\n",
       "    </tr>\n",
       "  </thead>\n",
       "  <tbody>\n",
       "    <tr>\n",
       "      <th>0</th>\n",
       "      <td>2019-12-10</td>\n",
       "      <td>5628</td>\n",
       "      <td>25</td>\n",
       "      <td>3</td>\n",
       "      <td>2019</td>\n",
       "      <td>12</td>\n",
       "      <td>10</td>\n",
       "      <td>December</td>\n",
       "      <td>1</td>\n",
       "      <td>Tuesday</td>\n",
       "    </tr>\n",
       "    <tr>\n",
       "      <th>1</th>\n",
       "      <td>2018-08-15</td>\n",
       "      <td>3646</td>\n",
       "      <td>14</td>\n",
       "      <td>157</td>\n",
       "      <td>2018</td>\n",
       "      <td>8</td>\n",
       "      <td>15</td>\n",
       "      <td>August</td>\n",
       "      <td>2</td>\n",
       "      <td>Wednesday</td>\n",
       "    </tr>\n",
       "    <tr>\n",
       "      <th>2</th>\n",
       "      <td>2018-10-23</td>\n",
       "      <td>1859</td>\n",
       "      <td>25</td>\n",
       "      <td>1</td>\n",
       "      <td>2018</td>\n",
       "      <td>10</td>\n",
       "      <td>23</td>\n",
       "      <td>October</td>\n",
       "      <td>1</td>\n",
       "      <td>Tuesday</td>\n",
       "    </tr>\n",
       "    <tr>\n",
       "      <th>3</th>\n",
       "      <td>2019-08-17</td>\n",
       "      <td>7292</td>\n",
       "      <td>25</td>\n",
       "      <td>1</td>\n",
       "      <td>2019</td>\n",
       "      <td>8</td>\n",
       "      <td>17</td>\n",
       "      <td>August</td>\n",
       "      <td>5</td>\n",
       "      <td>Saturday</td>\n",
       "    </tr>\n",
       "    <tr>\n",
       "      <th>4</th>\n",
       "      <td>2019-01-06</td>\n",
       "      <td>4344</td>\n",
       "      <td>25</td>\n",
       "      <td>3</td>\n",
       "      <td>2019</td>\n",
       "      <td>1</td>\n",
       "      <td>6</td>\n",
       "      <td>January</td>\n",
       "      <td>6</td>\n",
       "      <td>Sunday</td>\n",
       "    </tr>\n",
       "  </tbody>\n",
       "</table>\n",
       "</div>"
      ],
      "text/plain": [
       "        date  product_id  city_id  orders  data_year  data_month  data_day  \\\n",
       "0 2019-12-10        5628       25       3       2019          12        10   \n",
       "1 2018-08-15        3646       14     157       2018           8        15   \n",
       "2 2018-10-23        1859       25       1       2018          10        23   \n",
       "3 2019-08-17        7292       25       1       2019           8        17   \n",
       "4 2019-01-06        4344       25       3       2019           1         6   \n",
       "\n",
       "  month_name  dayofweek   day_name  \n",
       "0   December          1    Tuesday  \n",
       "1     August          2  Wednesday  \n",
       "2    October          1    Tuesday  \n",
       "3     August          5   Saturday  \n",
       "4    January          6     Sunday  "
      ]
     },
     "execution_count": 32,
     "metadata": {},
     "output_type": "execute_result"
    }
   ],
   "source": [
    "date.head()"
   ]
  },
  {
   "cell_type": "code",
   "execution_count": 36,
   "id": "1c3261f4-2fbc-41af-a23d-8d1679900682",
   "metadata": {},
   "outputs": [],
   "source": [
    "# time['time'] = time['time'].dt."
   ]
  },
  {
   "cell_type": "code",
   "execution_count": 35,
   "id": "e41cb6e9-2e63-4658-aaf3-e1ae1ab71977",
   "metadata": {},
   "outputs": [
    {
     "data": {
      "text/html": [
       "<div>\n",
       "<style scoped>\n",
       "    .dataframe tbody tr th:only-of-type {\n",
       "        vertical-align: middle;\n",
       "    }\n",
       "\n",
       "    .dataframe tbody tr th {\n",
       "        vertical-align: top;\n",
       "    }\n",
       "\n",
       "    .dataframe thead th {\n",
       "        text-align: right;\n",
       "    }\n",
       "</style>\n",
       "<table border=\"1\" class=\"dataframe\">\n",
       "  <thead>\n",
       "    <tr style=\"text-align: right;\">\n",
       "      <th></th>\n",
       "      <th>date</th>\n",
       "      <th>data_year</th>\n",
       "      <th>data_month</th>\n",
       "      <th>data_day</th>\n",
       "      <th>month_name</th>\n",
       "      <th>dayofweek</th>\n",
       "      <th>day_name</th>\n",
       "      <th>date_is_weekend</th>\n",
       "    </tr>\n",
       "  </thead>\n",
       "  <tbody>\n",
       "    <tr>\n",
       "      <th>0</th>\n",
       "      <td>2019-12-10</td>\n",
       "      <td>2019</td>\n",
       "      <td>12</td>\n",
       "      <td>10</td>\n",
       "      <td>December</td>\n",
       "      <td>1</td>\n",
       "      <td>Tuesday</td>\n",
       "      <td>0</td>\n",
       "    </tr>\n",
       "    <tr>\n",
       "      <th>1</th>\n",
       "      <td>2018-08-15</td>\n",
       "      <td>2018</td>\n",
       "      <td>8</td>\n",
       "      <td>15</td>\n",
       "      <td>August</td>\n",
       "      <td>2</td>\n",
       "      <td>Wednesday</td>\n",
       "      <td>0</td>\n",
       "    </tr>\n",
       "    <tr>\n",
       "      <th>2</th>\n",
       "      <td>2018-10-23</td>\n",
       "      <td>2018</td>\n",
       "      <td>10</td>\n",
       "      <td>23</td>\n",
       "      <td>October</td>\n",
       "      <td>1</td>\n",
       "      <td>Tuesday</td>\n",
       "      <td>0</td>\n",
       "    </tr>\n",
       "    <tr>\n",
       "      <th>3</th>\n",
       "      <td>2019-08-17</td>\n",
       "      <td>2019</td>\n",
       "      <td>8</td>\n",
       "      <td>17</td>\n",
       "      <td>August</td>\n",
       "      <td>5</td>\n",
       "      <td>Saturday</td>\n",
       "      <td>1</td>\n",
       "    </tr>\n",
       "    <tr>\n",
       "      <th>4</th>\n",
       "      <td>2019-01-06</td>\n",
       "      <td>2019</td>\n",
       "      <td>1</td>\n",
       "      <td>6</td>\n",
       "      <td>January</td>\n",
       "      <td>6</td>\n",
       "      <td>Sunday</td>\n",
       "      <td>1</td>\n",
       "    </tr>\n",
       "  </tbody>\n",
       "</table>\n",
       "</div>"
      ],
      "text/plain": [
       "        date  data_year  data_month  data_day month_name  dayofweek  \\\n",
       "0 2019-12-10       2019          12        10   December          1   \n",
       "1 2018-08-15       2018           8        15     August          2   \n",
       "2 2018-10-23       2018          10        23    October          1   \n",
       "3 2019-08-17       2019           8        17     August          5   \n",
       "4 2019-01-06       2019           1         6    January          6   \n",
       "\n",
       "    day_name  date_is_weekend  \n",
       "0    Tuesday                0  \n",
       "1  Wednesday                0  \n",
       "2    Tuesday                0  \n",
       "3   Saturday                1  \n",
       "4     Sunday                1  "
      ]
     },
     "execution_count": 35,
     "metadata": {},
     "output_type": "execute_result"
    }
   ],
   "source": [
    "date['date_is_weekend'] = np.where(date['day_name'].isin(['Sunday', 'Saturday']), 1,0)\n",
    "\n",
    "date.drop(columns=['product_id','city_id','orders']).head()"
   ]
  },
  {
   "cell_type": "code",
   "execution_count": 37,
   "id": "031c7f20-5e85-48d8-a62f-68d898e3358e",
   "metadata": {},
   "outputs": [
    {
     "data": {
      "text/plain": [
       "datetime.datetime(2024, 9, 18, 16, 48, 40, 1955)"
      ]
     },
     "execution_count": 37,
     "metadata": {},
     "output_type": "execute_result"
    }
   ],
   "source": [
    "import datetime\n",
    "today = datetime.datetime.today()\n",
    "\n",
    "today\n"
   ]
  },
  {
   "cell_type": "code",
   "execution_count": 38,
   "id": "df676a57-cb93-4598-9fd6-1a7db49aea3c",
   "metadata": {},
   "outputs": [
    {
     "data": {
      "text/plain": [
       "0     1744 days 16:48:40.001955\n",
       "1     2226 days 16:48:40.001955\n",
       "2     2157 days 16:48:40.001955\n",
       "3     1859 days 16:48:40.001955\n",
       "4     2082 days 16:48:40.001955\n",
       "                 ...           \n",
       "995   2172 days 16:48:40.001955\n",
       "996   2113 days 16:48:40.001955\n",
       "997   1961 days 16:48:40.001955\n",
       "998   2026 days 16:48:40.001955\n",
       "999   1800 days 16:48:40.001955\n",
       "Name: date, Length: 1000, dtype: timedelta64[ns]"
      ]
     },
     "execution_count": 38,
     "metadata": {},
     "output_type": "execute_result"
    }
   ],
   "source": [
    "today - date['date']\n"
   ]
  },
  {
   "cell_type": "code",
   "execution_count": 39,
   "id": "91996be5-e23d-482e-b49e-7a5599aac565",
   "metadata": {},
   "outputs": [
    {
     "data": {
      "text/plain": [
       "0      1744\n",
       "1      2226\n",
       "2      2157\n",
       "3      1859\n",
       "4      2082\n",
       "       ... \n",
       "995    2172\n",
       "996    2113\n",
       "997    1961\n",
       "998    2026\n",
       "999    1800\n",
       "Name: date, Length: 1000, dtype: int64"
      ]
     },
     "execution_count": 39,
     "metadata": {},
     "output_type": "execute_result"
    }
   ],
   "source": [
    "(today - date['date']).dt.days\n"
   ]
  },
  {
   "cell_type": "code",
   "execution_count": 41,
   "id": "6852d035-83ad-42d5-b430-175b767b0c7d",
   "metadata": {},
   "outputs": [
    {
     "data": {
      "text/plain": [
       "0      57.0\n",
       "1      73.0\n",
       "2      71.0\n",
       "3      61.0\n",
       "4      68.0\n",
       "       ... \n",
       "995    71.0\n",
       "996    69.0\n",
       "997    64.0\n",
       "998    67.0\n",
       "999    59.0\n",
       "Name: date, Length: 1000, dtype: float64"
      ]
     },
     "execution_count": 41,
     "metadata": {},
     "output_type": "execute_result"
    }
   ],
   "source": [
    "np.round((today - date['date']) / np.timedelta64(1, 'D') / 30.44, 0)\n"
   ]
  },
  {
   "cell_type": "code",
   "execution_count": 42,
   "id": "134f279b-8294-4d3f-906c-70816306ee99",
   "metadata": {},
   "outputs": [
    {
     "data": {
      "text/html": [
       "<div>\n",
       "<style scoped>\n",
       "    .dataframe tbody tr th:only-of-type {\n",
       "        vertical-align: middle;\n",
       "    }\n",
       "\n",
       "    .dataframe tbody tr th {\n",
       "        vertical-align: top;\n",
       "    }\n",
       "\n",
       "    .dataframe thead th {\n",
       "        text-align: right;\n",
       "    }\n",
       "</style>\n",
       "<table border=\"1\" class=\"dataframe\">\n",
       "  <thead>\n",
       "    <tr style=\"text-align: right;\">\n",
       "      <th></th>\n",
       "      <th>date</th>\n",
       "      <th>msg</th>\n",
       "    </tr>\n",
       "  </thead>\n",
       "  <tbody>\n",
       "    <tr>\n",
       "      <th>0</th>\n",
       "      <td>2013-12-15 00:50:00</td>\n",
       "      <td>ищу на сегодня мужика 37</td>\n",
       "    </tr>\n",
       "    <tr>\n",
       "      <th>1</th>\n",
       "      <td>2014-04-29 23:40:00</td>\n",
       "      <td>ПАРЕНЬ БИ ИЩЕТ ДРУГА СЕЙЧАС!! СМС ММС 0955532826</td>\n",
       "    </tr>\n",
       "    <tr>\n",
       "      <th>2</th>\n",
       "      <td>2012-12-30 00:21:00</td>\n",
       "      <td>Днепр.м 43 позн.с д/ж *.о  067.16.34.576</td>\n",
       "    </tr>\n",
       "    <tr>\n",
       "      <th>3</th>\n",
       "      <td>2014-11-28 00:31:00</td>\n",
       "      <td>КИЕВ ИЩУ Д/Ж ДО 45 МНЕ СЕЙЧАС СКУЧНО 093 629 9...</td>\n",
       "    </tr>\n",
       "    <tr>\n",
       "      <th>4</th>\n",
       "      <td>2013-10-26 23:11:00</td>\n",
       "      <td>Зая я тебя никогда не обижу  люблю тебя!)  Даше</td>\n",
       "    </tr>\n",
       "    <tr>\n",
       "      <th>...</th>\n",
       "      <td>...</td>\n",
       "      <td>...</td>\n",
       "    </tr>\n",
       "    <tr>\n",
       "      <th>995</th>\n",
       "      <td>2012-03-16 00:50:00</td>\n",
       "      <td>ПАРЕНЬ СДЕЛАЕТ  МАССАЖ ЖЕНЩИНАМ -066-877-32-44</td>\n",
       "    </tr>\n",
       "    <tr>\n",
       "      <th>996</th>\n",
       "      <td>2014-01-23 23:14:00</td>\n",
       "      <td>сельский п 23 ищу девушку для отношений</td>\n",
       "    </tr>\n",
       "    <tr>\n",
       "      <th>997</th>\n",
       "      <td>2012-10-15 23:37:00</td>\n",
       "      <td>Д+Д ДЛЯ серьезных отношений. Мой номер 093-156...</td>\n",
       "    </tr>\n",
       "    <tr>\n",
       "      <th>998</th>\n",
       "      <td>2012-06-21 23:34:00</td>\n",
       "      <td>7 ДНЕПР М.34 ПОЗ.С Д/Ж ДЛЯ ВСТРЕЧ.Т.098 809 15 14</td>\n",
       "    </tr>\n",
       "    <tr>\n",
       "      <th>999</th>\n",
       "      <td>2014-06-19 23:25:00</td>\n",
       "      <td>Парень поласкает девушке...  т.0662035584</td>\n",
       "    </tr>\n",
       "  </tbody>\n",
       "</table>\n",
       "<p>1000 rows × 2 columns</p>\n",
       "</div>"
      ],
      "text/plain": [
       "                   date                                                msg\n",
       "0   2013-12-15 00:50:00                           ищу на сегодня мужика 37\n",
       "1   2014-04-29 23:40:00   ПАРЕНЬ БИ ИЩЕТ ДРУГА СЕЙЧАС!! СМС ММС 0955532826\n",
       "2   2012-12-30 00:21:00           Днепр.м 43 позн.с д/ж *.о  067.16.34.576\n",
       "3   2014-11-28 00:31:00  КИЕВ ИЩУ Д/Ж ДО 45 МНЕ СЕЙЧАС СКУЧНО 093 629 9...\n",
       "4   2013-10-26 23:11:00    Зая я тебя никогда не обижу  люблю тебя!)  Даше\n",
       "..                  ...                                                ...\n",
       "995 2012-03-16 00:50:00     ПАРЕНЬ СДЕЛАЕТ  МАССАЖ ЖЕНЩИНАМ -066-877-32-44\n",
       "996 2014-01-23 23:14:00            сельский п 23 ищу девушку для отношений\n",
       "997 2012-10-15 23:37:00  Д+Д ДЛЯ серьезных отношений. Мой номер 093-156...\n",
       "998 2012-06-21 23:34:00  7 ДНЕПР М.34 ПОЗ.С Д/Ж ДЛЯ ВСТРЕЧ.Т.098 809 15 14\n",
       "999 2014-06-19 23:25:00          Парень поласкает девушке...  т.0662035584\n",
       "\n",
       "[1000 rows x 2 columns]"
      ]
     },
     "execution_count": 42,
     "metadata": {},
     "output_type": "execute_result"
    }
   ],
   "source": [
    "time"
   ]
  },
  {
   "cell_type": "code",
   "execution_count": 43,
   "id": "270fba6b-2f3f-433a-844d-c942f73629dc",
   "metadata": {},
   "outputs": [
    {
     "data": {
      "text/html": [
       "<div>\n",
       "<style scoped>\n",
       "    .dataframe tbody tr th:only-of-type {\n",
       "        vertical-align: middle;\n",
       "    }\n",
       "\n",
       "    .dataframe tbody tr th {\n",
       "        vertical-align: top;\n",
       "    }\n",
       "\n",
       "    .dataframe thead th {\n",
       "        text-align: right;\n",
       "    }\n",
       "</style>\n",
       "<table border=\"1\" class=\"dataframe\">\n",
       "  <thead>\n",
       "    <tr style=\"text-align: right;\">\n",
       "      <th></th>\n",
       "      <th>date</th>\n",
       "      <th>msg</th>\n",
       "    </tr>\n",
       "  </thead>\n",
       "  <tbody>\n",
       "    <tr>\n",
       "      <th>0</th>\n",
       "      <td>2013-12-15 00:50:00</td>\n",
       "      <td>ищу на сегодня мужика 37</td>\n",
       "    </tr>\n",
       "    <tr>\n",
       "      <th>1</th>\n",
       "      <td>2014-04-29 23:40:00</td>\n",
       "      <td>ПАРЕНЬ БИ ИЩЕТ ДРУГА СЕЙЧАС!! СМС ММС 0955532826</td>\n",
       "    </tr>\n",
       "    <tr>\n",
       "      <th>2</th>\n",
       "      <td>2012-12-30 00:21:00</td>\n",
       "      <td>Днепр.м 43 позн.с д/ж *.о  067.16.34.576</td>\n",
       "    </tr>\n",
       "    <tr>\n",
       "      <th>3</th>\n",
       "      <td>2014-11-28 00:31:00</td>\n",
       "      <td>КИЕВ ИЩУ Д/Ж ДО 45 МНЕ СЕЙЧАС СКУЧНО 093 629 9...</td>\n",
       "    </tr>\n",
       "    <tr>\n",
       "      <th>4</th>\n",
       "      <td>2013-10-26 23:11:00</td>\n",
       "      <td>Зая я тебя никогда не обижу  люблю тебя!)  Даше</td>\n",
       "    </tr>\n",
       "  </tbody>\n",
       "</table>\n",
       "</div>"
      ],
      "text/plain": [
       "                 date                                                msg\n",
       "0 2013-12-15 00:50:00                           ищу на сегодня мужика 37\n",
       "1 2014-04-29 23:40:00   ПАРЕНЬ БИ ИЩЕТ ДРУГА СЕЙЧАС!! СМС ММС 0955532826\n",
       "2 2012-12-30 00:21:00           Днепр.м 43 позн.с д/ж *.о  067.16.34.576\n",
       "3 2014-11-28 00:31:00  КИЕВ ИЩУ Д/Ж ДО 45 МНЕ СЕЙЧАС СКУЧНО 093 629 9...\n",
       "4 2013-10-26 23:11:00    Зая я тебя никогда не обижу  люблю тебя!)  Даше"
      ]
     },
     "execution_count": 43,
     "metadata": {},
     "output_type": "execute_result"
    }
   ],
   "source": [
    "time.head()"
   ]
  },
  {
   "cell_type": "code",
   "execution_count": 44,
   "id": "d2ebafad-ee6d-4b33-940a-8d14277e4418",
   "metadata": {},
   "outputs": [],
   "source": [
    "time['date'] = pd.to_datetime(time['date'])"
   ]
  },
  {
   "cell_type": "code",
   "execution_count": 45,
   "id": "d6b0c5e6-77b3-4cd8-a02f-b65ab7fc20a2",
   "metadata": {},
   "outputs": [
    {
     "name": "stdout",
     "output_type": "stream",
     "text": [
      "<class 'pandas.core.frame.DataFrame'>\n",
      "RangeIndex: 1000 entries, 0 to 999\n",
      "Data columns (total 2 columns):\n",
      " #   Column  Non-Null Count  Dtype         \n",
      "---  ------  --------------  -----         \n",
      " 0   date    1000 non-null   datetime64[ns]\n",
      " 1   msg     1000 non-null   object        \n",
      "dtypes: datetime64[ns](1), object(1)\n",
      "memory usage: 15.8+ KB\n"
     ]
    }
   ],
   "source": [
    "time.info()"
   ]
  },
  {
   "cell_type": "code",
   "execution_count": 46,
   "id": "680ff304-013a-4cc0-98ce-6534c3f31b2d",
   "metadata": {},
   "outputs": [
    {
     "data": {
      "text/html": [
       "<div>\n",
       "<style scoped>\n",
       "    .dataframe tbody tr th:only-of-type {\n",
       "        vertical-align: middle;\n",
       "    }\n",
       "\n",
       "    .dataframe tbody tr th {\n",
       "        vertical-align: top;\n",
       "    }\n",
       "\n",
       "    .dataframe thead th {\n",
       "        text-align: right;\n",
       "    }\n",
       "</style>\n",
       "<table border=\"1\" class=\"dataframe\">\n",
       "  <thead>\n",
       "    <tr style=\"text-align: right;\">\n",
       "      <th></th>\n",
       "      <th>date</th>\n",
       "      <th>msg</th>\n",
       "      <th>hour</th>\n",
       "      <th>min</th>\n",
       "      <th>sec</th>\n",
       "    </tr>\n",
       "  </thead>\n",
       "  <tbody>\n",
       "    <tr>\n",
       "      <th>0</th>\n",
       "      <td>2013-12-15 00:50:00</td>\n",
       "      <td>ищу на сегодня мужика 37</td>\n",
       "      <td>0</td>\n",
       "      <td>50</td>\n",
       "      <td>0</td>\n",
       "    </tr>\n",
       "    <tr>\n",
       "      <th>1</th>\n",
       "      <td>2014-04-29 23:40:00</td>\n",
       "      <td>ПАРЕНЬ БИ ИЩЕТ ДРУГА СЕЙЧАС!! СМС ММС 0955532826</td>\n",
       "      <td>23</td>\n",
       "      <td>40</td>\n",
       "      <td>0</td>\n",
       "    </tr>\n",
       "    <tr>\n",
       "      <th>2</th>\n",
       "      <td>2012-12-30 00:21:00</td>\n",
       "      <td>Днепр.м 43 позн.с д/ж *.о  067.16.34.576</td>\n",
       "      <td>0</td>\n",
       "      <td>21</td>\n",
       "      <td>0</td>\n",
       "    </tr>\n",
       "    <tr>\n",
       "      <th>3</th>\n",
       "      <td>2014-11-28 00:31:00</td>\n",
       "      <td>КИЕВ ИЩУ Д/Ж ДО 45 МНЕ СЕЙЧАС СКУЧНО 093 629 9...</td>\n",
       "      <td>0</td>\n",
       "      <td>31</td>\n",
       "      <td>0</td>\n",
       "    </tr>\n",
       "    <tr>\n",
       "      <th>4</th>\n",
       "      <td>2013-10-26 23:11:00</td>\n",
       "      <td>Зая я тебя никогда не обижу  люблю тебя!)  Даше</td>\n",
       "      <td>23</td>\n",
       "      <td>11</td>\n",
       "      <td>0</td>\n",
       "    </tr>\n",
       "  </tbody>\n",
       "</table>\n",
       "</div>"
      ],
      "text/plain": [
       "                 date                                                msg  \\\n",
       "0 2013-12-15 00:50:00                           ищу на сегодня мужика 37   \n",
       "1 2014-04-29 23:40:00   ПАРЕНЬ БИ ИЩЕТ ДРУГА СЕЙЧАС!! СМС ММС 0955532826   \n",
       "2 2012-12-30 00:21:00           Днепр.м 43 позн.с д/ж *.о  067.16.34.576   \n",
       "3 2014-11-28 00:31:00  КИЕВ ИЩУ Д/Ж ДО 45 МНЕ СЕЙЧАС СКУЧНО 093 629 9...   \n",
       "4 2013-10-26 23:11:00    Зая я тебя никогда не обижу  люблю тебя!)  Даше   \n",
       "\n",
       "   hour  min  sec  \n",
       "0     0   50    0  \n",
       "1    23   40    0  \n",
       "2     0   21    0  \n",
       "3     0   31    0  \n",
       "4    23   11    0  "
      ]
     },
     "execution_count": 46,
     "metadata": {},
     "output_type": "execute_result"
    }
   ],
   "source": [
    "time['hour'] = time['date'].dt.hour\n",
    "time['min'] = time['date'].dt.minute\n",
    "time['sec'] = time['date'].dt.second\n",
    "\n",
    "time.head()"
   ]
  },
  {
   "cell_type": "code",
   "execution_count": 47,
   "id": "4f9451e5-b6ff-4a3e-893a-cbdf3a877239",
   "metadata": {},
   "outputs": [
    {
     "data": {
      "text/html": [
       "<div>\n",
       "<style scoped>\n",
       "    .dataframe tbody tr th:only-of-type {\n",
       "        vertical-align: middle;\n",
       "    }\n",
       "\n",
       "    .dataframe tbody tr th {\n",
       "        vertical-align: top;\n",
       "    }\n",
       "\n",
       "    .dataframe thead th {\n",
       "        text-align: right;\n",
       "    }\n",
       "</style>\n",
       "<table border=\"1\" class=\"dataframe\">\n",
       "  <thead>\n",
       "    <tr style=\"text-align: right;\">\n",
       "      <th></th>\n",
       "      <th>date</th>\n",
       "      <th>msg</th>\n",
       "      <th>hour</th>\n",
       "      <th>min</th>\n",
       "      <th>sec</th>\n",
       "      <th>time</th>\n",
       "    </tr>\n",
       "  </thead>\n",
       "  <tbody>\n",
       "    <tr>\n",
       "      <th>0</th>\n",
       "      <td>2013-12-15 00:50:00</td>\n",
       "      <td>ищу на сегодня мужика 37</td>\n",
       "      <td>0</td>\n",
       "      <td>50</td>\n",
       "      <td>0</td>\n",
       "      <td>00:50:00</td>\n",
       "    </tr>\n",
       "    <tr>\n",
       "      <th>1</th>\n",
       "      <td>2014-04-29 23:40:00</td>\n",
       "      <td>ПАРЕНЬ БИ ИЩЕТ ДРУГА СЕЙЧАС!! СМС ММС 0955532826</td>\n",
       "      <td>23</td>\n",
       "      <td>40</td>\n",
       "      <td>0</td>\n",
       "      <td>23:40:00</td>\n",
       "    </tr>\n",
       "    <tr>\n",
       "      <th>2</th>\n",
       "      <td>2012-12-30 00:21:00</td>\n",
       "      <td>Днепр.м 43 позн.с д/ж *.о  067.16.34.576</td>\n",
       "      <td>0</td>\n",
       "      <td>21</td>\n",
       "      <td>0</td>\n",
       "      <td>00:21:00</td>\n",
       "    </tr>\n",
       "    <tr>\n",
       "      <th>3</th>\n",
       "      <td>2014-11-28 00:31:00</td>\n",
       "      <td>КИЕВ ИЩУ Д/Ж ДО 45 МНЕ СЕЙЧАС СКУЧНО 093 629 9...</td>\n",
       "      <td>0</td>\n",
       "      <td>31</td>\n",
       "      <td>0</td>\n",
       "      <td>00:31:00</td>\n",
       "    </tr>\n",
       "    <tr>\n",
       "      <th>4</th>\n",
       "      <td>2013-10-26 23:11:00</td>\n",
       "      <td>Зая я тебя никогда не обижу  люблю тебя!)  Даше</td>\n",
       "      <td>23</td>\n",
       "      <td>11</td>\n",
       "      <td>0</td>\n",
       "      <td>23:11:00</td>\n",
       "    </tr>\n",
       "  </tbody>\n",
       "</table>\n",
       "</div>"
      ],
      "text/plain": [
       "                 date                                                msg  \\\n",
       "0 2013-12-15 00:50:00                           ищу на сегодня мужика 37   \n",
       "1 2014-04-29 23:40:00   ПАРЕНЬ БИ ИЩЕТ ДРУГА СЕЙЧАС!! СМС ММС 0955532826   \n",
       "2 2012-12-30 00:21:00           Днепр.м 43 позн.с д/ж *.о  067.16.34.576   \n",
       "3 2014-11-28 00:31:00  КИЕВ ИЩУ Д/Ж ДО 45 МНЕ СЕЙЧАС СКУЧНО 093 629 9...   \n",
       "4 2013-10-26 23:11:00    Зая я тебя никогда не обижу  люблю тебя!)  Даше   \n",
       "\n",
       "   hour  min  sec      time  \n",
       "0     0   50    0  00:50:00  \n",
       "1    23   40    0  23:40:00  \n",
       "2     0   21    0  00:21:00  \n",
       "3     0   31    0  00:31:00  \n",
       "4    23   11    0  23:11:00  "
      ]
     },
     "execution_count": 47,
     "metadata": {},
     "output_type": "execute_result"
    }
   ],
   "source": [
    "time['time'] = time['date'].dt.time\n",
    "\n",
    "time.head()"
   ]
  },
  {
   "cell_type": "code",
   "execution_count": 48,
   "id": "c9e8744a-2267-422b-8c64-945fdbaf9d1e",
   "metadata": {},
   "outputs": [
    {
     "data": {
      "text/plain": [
       "0     3930 days 15:58:40.001955\n",
       "1     3794 days 17:08:40.001955\n",
       "2     4280 days 16:27:40.001955\n",
       "3     3582 days 16:17:40.001955\n",
       "4     3979 days 17:37:40.001955\n",
       "                 ...           \n",
       "995   4569 days 15:58:40.001955\n",
       "996   3890 days 17:34:40.001955\n",
       "997   4355 days 17:11:40.001955\n",
       "998   4471 days 17:14:40.001955\n",
       "999   3743 days 17:23:40.001955\n",
       "Name: date, Length: 1000, dtype: timedelta64[ns]"
      ]
     },
     "execution_count": 48,
     "metadata": {},
     "output_type": "execute_result"
    }
   ],
   "source": [
    "today - time['date']\n"
   ]
  },
  {
   "cell_type": "code",
   "execution_count": 49,
   "id": "1cbe9482-6930-49aa-bdca-bc731e936d9c",
   "metadata": {},
   "outputs": [
    {
     "data": {
      "text/plain": [
       "0      3.396095e+08\n",
       "1      3.278633e+08\n",
       "2      3.698513e+08\n",
       "3      3.095435e+08\n",
       "4      3.438491e+08\n",
       "           ...     \n",
       "995    3.948191e+08\n",
       "996    3.361593e+08\n",
       "997    3.763339e+08\n",
       "998    3.863565e+08\n",
       "999    3.234578e+08\n",
       "Name: date, Length: 1000, dtype: float64"
      ]
     },
     "execution_count": 49,
     "metadata": {},
     "output_type": "execute_result"
    }
   ],
   "source": [
    "(today - time['date'])/np.timedelta64(1,'s')\n"
   ]
  },
  {
   "cell_type": "code",
   "execution_count": 50,
   "id": "6521977e-e8db-48be-bdc0-dbf1edcee130",
   "metadata": {},
   "outputs": [
    {
     "data": {
      "text/plain": [
       "0      5.660159e+06\n",
       "1      5.464389e+06\n",
       "2      6.164188e+06\n",
       "3      5.159058e+06\n",
       "4      5.730818e+06\n",
       "           ...     \n",
       "995    6.580319e+06\n",
       "996    5.602655e+06\n",
       "997    6.272232e+06\n",
       "998    6.439275e+06\n",
       "999    5.390964e+06\n",
       "Name: date, Length: 1000, dtype: float64"
      ]
     },
     "execution_count": 50,
     "metadata": {},
     "output_type": "execute_result"
    }
   ],
   "source": [
    "(today - time['date'])/np.timedelta64(1,'m')\n"
   ]
  },
  {
   "cell_type": "code",
   "execution_count": 51,
   "id": "ee8920d8-5d1f-49a6-b100-1df4753370bf",
   "metadata": {},
   "outputs": [
    {
     "data": {
      "text/plain": [
       "0       94335.977778\n",
       "1       91073.144445\n",
       "2      102736.461112\n",
       "3       85984.294445\n",
       "4       95513.627778\n",
       "           ...      \n",
       "995    109671.977778\n",
       "996     93377.577778\n",
       "997    104537.194445\n",
       "998    107321.244445\n",
       "999     89849.394445\n",
       "Name: date, Length: 1000, dtype: float64"
      ]
     },
     "execution_count": 51,
     "metadata": {},
     "output_type": "execute_result"
    }
   ],
   "source": [
    "(today - time['date'])/np.timedelta64(1,'h')\n"
   ]
  },
  {
   "cell_type": "code",
   "execution_count": null,
   "id": "672fc3d0-6056-40b5-a8b1-541e47abb452",
   "metadata": {},
   "outputs": [],
   "source": []
  }
 ],
 "metadata": {
  "kernelspec": {
   "display_name": "harshkernel",
   "language": "python",
   "name": "harshkernel"
  },
  "language_info": {
   "codemirror_mode": {
    "name": "ipython",
    "version": 3
   },
   "file_extension": ".py",
   "mimetype": "text/x-python",
   "name": "python",
   "nbconvert_exporter": "python",
   "pygments_lexer": "ipython3",
   "version": "3.11.5"
  }
 },
 "nbformat": 4,
 "nbformat_minor": 5
}
