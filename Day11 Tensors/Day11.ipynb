{
 "cells": [
  {
   "cell_type": "code",
   "execution_count": 3,
   "id": "e525e201-b6a0-46fe-a203-1e599a2d8599",
   "metadata": {},
   "outputs": [],
   "source": [
    "import numpy as np"
   ]
  },
  {
   "cell_type": "code",
   "execution_count": 4,
   "id": "ae7c8e4d-12df-4d96-b554-42d286625419",
   "metadata": {},
   "outputs": [],
   "source": [
    "a = np.array(4)"
   ]
  },
  {
   "cell_type": "code",
   "execution_count": 5,
   "id": "0b45b7f7-a0dc-496b-b26d-03e390930c2f",
   "metadata": {},
   "outputs": [
    {
     "data": {
      "text/plain": [
       "array(4)"
      ]
     },
     "execution_count": 5,
     "metadata": {},
     "output_type": "execute_result"
    }
   ],
   "source": [
    "a"
   ]
  },
  {
   "cell_type": "code",
   "execution_count": 8,
   "id": "725036aa-a3c8-47e0-9a64-aaee871f278a",
   "metadata": {},
   "outputs": [
    {
     "data": {
      "text/plain": [
       "0"
      ]
     },
     "execution_count": 8,
     "metadata": {},
     "output_type": "execute_result"
    }
   ],
   "source": [
    "a.ndim"
   ]
  },
  {
   "cell_type": "code",
   "execution_count": 16,
   "id": "c3db34b6-ea81-4a2f-bb99-1b2041738e01",
   "metadata": {},
   "outputs": [
    {
     "data": {
      "text/plain": [
       "1"
      ]
     },
     "execution_count": 16,
     "metadata": {},
     "output_type": "execute_result"
    }
   ],
   "source": [
    "a = np.array([1,2,3,4])\n",
    "a.ndim"
   ]
  },
  {
   "cell_type": "code",
   "execution_count": 12,
   "id": "de0ffaf0-1f66-42d0-913c-cf5803889733",
   "metadata": {},
   "outputs": [
    {
     "data": {
      "text/plain": [
       "2"
      ]
     },
     "execution_count": 12,
     "metadata": {},
     "output_type": "execute_result"
    }
   ],
   "source": [
    "b = np.array([[1,2,3,4],[2,3,4,5]])\n",
    "b.ndim"
   ]
  },
  {
   "cell_type": "code",
   "execution_count": 13,
   "id": "f17e3312-4a16-41e9-a9a2-c0a9358edc17",
   "metadata": {},
   "outputs": [
    {
     "data": {
      "text/plain": [
       "array([[1, 2, 3, 4],\n",
       "       [2, 3, 4, 5]])"
      ]
     },
     "execution_count": 13,
     "metadata": {},
     "output_type": "execute_result"
    }
   ],
   "source": [
    "b"
   ]
  },
  {
   "cell_type": "code",
   "execution_count": 14,
   "id": "cdf2f2e4-0b0f-436c-811e-a1982e7282e7",
   "metadata": {},
   "outputs": [
    {
     "data": {
      "text/plain": [
       "(2, 4)"
      ]
     },
     "execution_count": 14,
     "metadata": {},
     "output_type": "execute_result"
    }
   ],
   "source": [
    "b.shape"
   ]
  },
  {
   "cell_type": "code",
   "execution_count": 15,
   "id": "be063dde-1a09-48fd-99d7-5b7ae310930b",
   "metadata": {},
   "outputs": [
    {
     "data": {
      "text/plain": [
       "8"
      ]
     },
     "execution_count": 15,
     "metadata": {},
     "output_type": "execute_result"
    }
   ],
   "source": [
    "b.size"
   ]
  },
  {
   "cell_type": "code",
   "execution_count": 17,
   "id": "30f12aaa-52c6-4911-a5ae-a3b162283e84",
   "metadata": {},
   "outputs": [
    {
     "data": {
      "text/plain": [
       "(4,)"
      ]
     },
     "execution_count": 17,
     "metadata": {},
     "output_type": "execute_result"
    }
   ],
   "source": [
    "a.shape"
   ]
  },
  {
   "cell_type": "code",
   "execution_count": 18,
   "id": "d6210f80-d91f-418e-a7cf-a5793a42118a",
   "metadata": {},
   "outputs": [
    {
     "data": {
      "text/plain": [
       "7464960000"
      ]
     },
     "execution_count": 18,
     "metadata": {},
     "output_type": "execute_result"
    }
   ],
   "source": [
    "4*1800*480*720*3"
   ]
  },
  {
   "cell_type": "code",
   "execution_count": 23,
   "id": "c56ccc0c-4fb3-4966-9726-02760feec0d8",
   "metadata": {},
   "outputs": [
    {
     "data": {
      "text/plain": [
       "238878720000"
      ]
     },
     "execution_count": 23,
     "metadata": {},
     "output_type": "execute_result"
    }
   ],
   "source": [
    "32 * 7464960000 #bits"
   ]
  },
  {
   "cell_type": "code",
   "execution_count": 24,
   "id": "bfa65882-3a29-4cdb-abc3-bf9bc433144f",
   "metadata": {},
   "outputs": [
    {
     "data": {
      "text/plain": [
       "29859840000.0"
      ]
     },
     "execution_count": 24,
     "metadata": {},
     "output_type": "execute_result"
    }
   ],
   "source": [
    "238878720000 / 8  #bytes"
   ]
  },
  {
   "cell_type": "code",
   "execution_count": 25,
   "id": "c12b7312-a9fe-4737-a4e1-a59ebed18afe",
   "metadata": {},
   "outputs": [
    {
     "data": {
      "text/plain": [
       "29160000.0"
      ]
     },
     "execution_count": 25,
     "metadata": {},
     "output_type": "execute_result"
    }
   ],
   "source": [
    "29859840000/1024  #kbytes\n"
   ]
  },
  {
   "cell_type": "code",
   "execution_count": 26,
   "id": "6e448fb8-5b2b-4f88-b4b1-858be92c78c4",
   "metadata": {},
   "outputs": [
    {
     "data": {
      "text/plain": [
       "28476.5625"
      ]
     },
     "execution_count": 26,
     "metadata": {},
     "output_type": "execute_result"
    }
   ],
   "source": [
    "29160000/1024  #megabytes"
   ]
  },
  {
   "cell_type": "code",
   "execution_count": 27,
   "id": "cf90f832-07ef-4b75-bb75-9c3f44f48b0f",
   "metadata": {},
   "outputs": [
    {
     "data": {
      "text/plain": [
       "27.80914306640625"
      ]
     },
     "execution_count": 27,
     "metadata": {},
     "output_type": "execute_result"
    }
   ],
   "source": [
    "28476.5625 / 1024 #gb"
   ]
  },
  {
   "cell_type": "code",
   "execution_count": null,
   "id": "f212c617-2a75-405b-8f6c-d31e2c9f9a81",
   "metadata": {},
   "outputs": [],
   "source": []
  }
 ],
 "metadata": {
  "kernelspec": {
   "display_name": "harshkernel",
   "language": "python",
   "name": "harshkernel"
  },
  "language_info": {
   "codemirror_mode": {
    "name": "ipython",
    "version": 3
   },
   "file_extension": ".py",
   "mimetype": "text/x-python",
   "name": "python",
   "nbconvert_exporter": "python",
   "pygments_lexer": "ipython3",
   "version": "3.11.5"
  }
 },
 "nbformat": 4,
 "nbformat_minor": 5
}
