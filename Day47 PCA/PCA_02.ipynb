{
 "cells": [
  {
   "cell_type": "code",
   "execution_count": 63,
   "id": "3e932536-8a8a-4c06-b958-6783005a4bef",
   "metadata": {},
   "outputs": [],
   "source": [
    "# problem formulation"
   ]
  },
  {
   "cell_type": "code",
   "execution_count": 64,
   "id": "24e49eb8-5a7e-4dd9-bb40-90caf3116d56",
   "metadata": {},
   "outputs": [],
   "source": [
    "# one vector x we find unit vector u  x->(x1,y1) , u->(x2,y2)\n",
    "# for X1 point -> [ U^(T) X1 ] -> (x1x2+y1y2)"
   ]
  },
  {
   "cell_type": "code",
   "execution_count": 65,
   "id": "d3a5d4f6-b63e-4445-8f1e-023e6fc98a99",
   "metadata": {},
   "outputs": [],
   "source": [
    "# variance \n",
    "#1/n sigma (n=1 to n) (x(i) - x(bar) )^(2) "
   ]
  },
  {
   "cell_type": "code",
   "execution_count": 66,
   "id": "dc6bba93-eac8-4eb6-bdbf-54ce4811742d",
   "metadata": {},
   "outputs": [],
   "source": [
    "# variance find\n",
    "# sigma(i=1 to n ) (U^(T) X(i) - U^(T) X(bar) )^(2) / n   == variance  -> mathematical objective function "
   ]
  },
  {
   "cell_type": "code",
   "execution_count": 67,
   "id": "8f35363e-2636-4d64-bb82-105cfd8982d6",
   "metadata": {},
   "outputs": [],
   "source": [
    "#find unit vector who have maximaum variances "
   ]
  },
  {
   "cell_type": "code",
   "execution_count": 68,
   "id": "efbdffc7-2476-42db-8fde-1405320fdddb",
   "metadata": {},
   "outputs": [],
   "source": [
    "# we need to maximize this\"sigma(i=1 to n ) (U^(T) X(i) - U^(T) X(bar) )^(2) / n \" -> optimize problem"
   ]
  },
  {
   "cell_type": "code",
   "execution_count": 69,
   "id": "20670b98-3b5e-4437-9fda-075c4640ef7e",
   "metadata": {},
   "outputs": [],
   "source": [
    "# covariance , covarince matrix"
   ]
  },
  {
   "cell_type": "code",
   "execution_count": 70,
   "id": "df43c1bc-7cb3-458a-9df0-acd844b99a3b",
   "metadata": {},
   "outputs": [],
   "source": [
    "# mean don't give info about spread of data solve this problem we use -> vaiance \n",
    "#variance happen in one axis solve this problem we use -> covariance\n"
   ]
  },
  {
   "cell_type": "code",
   "execution_count": 71,
   "id": "8f232348-637f-458f-9148-462554ef1646",
   "metadata": {},
   "outputs": [],
   "source": [
    "#covariance -2/3 and 2/3 differnce of two data -> x increase y decrease\n",
    "# corr (-1 to 1) but covarince is go up\n",
    "# covarince use for two axis change how give that info"
   ]
  },
  {
   "cell_type": "code",
   "execution_count": 72,
   "id": "5aab6227-bbf5-4d7c-acb2-19aceec779bd",
   "metadata": {},
   "outputs": [],
   "source": [
    "#2d data covarince matrix \n",
    "# 2*2 matrix "
   ]
  },
  {
   "cell_type": "code",
   "execution_count": 73,
   "id": "000f2e14-f703-47a0-8068-dfd2cc605c55",
   "metadata": {},
   "outputs": [],
   "source": [
    "# cov(x1,x1) -> var(x1) , cov(a,b) = cov(b,a)\n",
    "#in matrix -> square, symmetric matrix\n",
    "# [ varx(X1) cov(x1,x2) ]\n",
    "# [ cov(x2,x1) , var(x2) ]"
   ]
  },
  {
   "cell_type": "code",
   "execution_count": 74,
   "id": "8fd48f07-5451-4734-8868-7773f00fb0b7",
   "metadata": {},
   "outputs": [],
   "source": [
    "# cov matrix give spread of data and orientation "
   ]
  },
  {
   "cell_type": "code",
   "execution_count": 75,
   "id": "83080666-4b6d-4e48-91c1-ce1ecbe38ba0",
   "metadata": {},
   "outputs": [],
   "source": [
    "# 3d cov for x,y,z\n",
    "# [ varx ,c(x,y) ,c(x,z)]\n",
    "# [ c(y,x), vary ,c(y,z) ]\n",
    "# [ c(z,x), c(z,y) ,varz]"
   ]
  },
  {
   "cell_type": "code",
   "execution_count": 76,
   "id": "62c38385-41ef-4574-9879-9a025cbf6cee",
   "metadata": {},
   "outputs": [],
   "source": [
    "# eigen decomposition of cov matrix"
   ]
  },
  {
   "cell_type": "code",
   "execution_count": 77,
   "id": "8b15c5be-1d70-4195-b193-af8495c29f2f",
   "metadata": {},
   "outputs": [],
   "source": [
    "# eigen vectors and eigen values -> matrices LT"
   ]
  },
  {
   "cell_type": "code",
   "execution_count": 78,
   "id": "25dca0b3-2cc8-4813-b8d8-456b261c53f7",
   "metadata": {},
   "outputs": [],
   "source": [
    "# what are eigen vector -> special vector in that apply LT  vector not chnage directions "
   ]
  },
  {
   "cell_type": "code",
   "execution_count": 79,
   "id": "5eda2ce5-2605-4bc2-a13d-13003c557918",
   "metadata": {},
   "outputs": [],
   "source": [
    "# what is eigen values -> in 2d there is two vector that not change direction -> eigen vector and the factor is eigen values"
   ]
  },
  {
   "cell_type": "code",
   "execution_count": 80,
   "id": "78a71199-09b5-445c-9939-7209248709d0",
   "metadata": {},
   "outputs": [],
   "source": [
    "# A v(->) = lamda v(->) this is true for eigen vector -> just change scale"
   ]
  },
  {
   "cell_type": "code",
   "execution_count": 81,
   "id": "ea3d811c-fbf9-4269-aa09-3fed478ed831",
   "metadata": {},
   "outputs": [],
   "source": [
    "# LT we use covariance matrix "
   ]
  },
  {
   "cell_type": "code",
   "execution_count": 82,
   "id": "b5f65335-1203-40d2-9c90-9481b46e06dc",
   "metadata": {},
   "outputs": [],
   "source": [
    "#steps in PCA 1)mean centric 2) find cov matrix 3) find the eigen value and eigen vecotr for cov matrix \n",
    "# if 3d then we get 3 vector of eigen vector and values a1,a2,a3 -> pc1,pc2,pc3 -> 3d to 1d -> pc1"
   ]
  },
  {
   "cell_type": "code",
   "execution_count": 84,
   "id": "3cc0460a-b793-4a79-9a4f-463a3bd1998b",
   "metadata": {},
   "outputs": [],
   "source": [
    "# transformation points :\n",
    "# 3d to 1d"
   ]
  },
  {
   "cell_type": "code",
   "execution_count": 1,
   "id": "454695dc-71dd-4c21-b09c-8d975c3a85e1",
   "metadata": {},
   "outputs": [],
   "source": [
    "import numpy as np\n",
    "import pandas as pd\n",
    "\n",
    "np.random.seed(23)\n",
    "\n",
    "# Generate class 1 samples\n",
    "mu_vec1 = np.array([0, 0, 0])\n",
    "cov_mat1 = np.array([[1, 0, 0], [0, 1, 0], [0, 0, 1]])\n",
    "class1_sample = np.random.multivariate_normal(mu_vec1, cov_mat1, 20)\n",
    "df = pd.DataFrame(class1_sample, columns=['feature1', 'feature2', 'feature3'])\n",
    "df['target'] = 1\n",
    "\n",
    "# Generate class 2 samples\n",
    "mu_vec2 = np.array([1, 1, 1])\n",
    "cov_mat2 = np.array([[1, 0, 0], [0, 1, 0], [0, 0, 1]])\n",
    "class2_sample = np.random.multivariate_normal(mu_vec2, cov_mat2, 20)\n",
    "df1 = pd.DataFrame(class2_sample, columns=['feature1', 'feature2', 'feature3'])\n",
    "df1['target'] = 0\n",
    "\n",
    "# Combine the DataFrames and shuffle\n",
    "df = pd.concat([df, df1], ignore_index=True)\n",
    "df = df.sample(40)\n"
   ]
  },
  {
   "cell_type": "code",
   "execution_count": 2,
   "id": "b51e3b95-3ec7-4461-9cb1-9e753c950282",
   "metadata": {},
   "outputs": [
    {
     "data": {
      "text/html": [
       "<div>\n",
       "<style scoped>\n",
       "    .dataframe tbody tr th:only-of-type {\n",
       "        vertical-align: middle;\n",
       "    }\n",
       "\n",
       "    .dataframe tbody tr th {\n",
       "        vertical-align: top;\n",
       "    }\n",
       "\n",
       "    .dataframe thead th {\n",
       "        text-align: right;\n",
       "    }\n",
       "</style>\n",
       "<table border=\"1\" class=\"dataframe\">\n",
       "  <thead>\n",
       "    <tr style=\"text-align: right;\">\n",
       "      <th></th>\n",
       "      <th>feature1</th>\n",
       "      <th>feature2</th>\n",
       "      <th>feature3</th>\n",
       "      <th>target</th>\n",
       "    </tr>\n",
       "  </thead>\n",
       "  <tbody>\n",
       "    <tr>\n",
       "      <th>2</th>\n",
       "      <td>-0.367548</td>\n",
       "      <td>-1.137460</td>\n",
       "      <td>-1.322148</td>\n",
       "      <td>1</td>\n",
       "    </tr>\n",
       "    <tr>\n",
       "      <th>34</th>\n",
       "      <td>0.177061</td>\n",
       "      <td>-0.598109</td>\n",
       "      <td>1.226512</td>\n",
       "      <td>0</td>\n",
       "    </tr>\n",
       "    <tr>\n",
       "      <th>14</th>\n",
       "      <td>0.420623</td>\n",
       "      <td>0.411620</td>\n",
       "      <td>-0.071324</td>\n",
       "      <td>1</td>\n",
       "    </tr>\n",
       "    <tr>\n",
       "      <th>11</th>\n",
       "      <td>1.968435</td>\n",
       "      <td>-0.547788</td>\n",
       "      <td>-0.679418</td>\n",
       "      <td>1</td>\n",
       "    </tr>\n",
       "    <tr>\n",
       "      <th>12</th>\n",
       "      <td>-2.506230</td>\n",
       "      <td>0.146960</td>\n",
       "      <td>0.606195</td>\n",
       "      <td>1</td>\n",
       "    </tr>\n",
       "  </tbody>\n",
       "</table>\n",
       "</div>"
      ],
      "text/plain": [
       "    feature1  feature2  feature3  target\n",
       "2  -0.367548 -1.137460 -1.322148       1\n",
       "34  0.177061 -0.598109  1.226512       0\n",
       "14  0.420623  0.411620 -0.071324       1\n",
       "11  1.968435 -0.547788 -0.679418       1\n",
       "12 -2.506230  0.146960  0.606195       1"
      ]
     },
     "execution_count": 2,
     "metadata": {},
     "output_type": "execute_result"
    }
   ],
   "source": [
    "df.head()\n"
   ]
  },
  {
   "cell_type": "code",
   "execution_count": 24,
   "id": "bf0c4e0d-0a86-410a-b8cb-e470f9aa92c0",
   "metadata": {},
   "outputs": [],
   "source": [
    "# run in colab for visualization \n",
    "# import plotly.express as px\n",
    "# #y_train_trf = y_train.astype(str)\n",
    "# fig = px.scatter_3d(df, x=df['feature1'], y=df['feature2'], z=df['feature3'],\n",
    "#               color=df['target'].astype('str'))\n",
    "# fig.update_traces(marker=dict(size=12,\n",
    "#                               line=dict(width=2,\n",
    "#                                         color='DarkSlateGrey')),\n",
    "#                   selector=dict(mode='markers'))\n",
    "\n",
    "# fig.show()\n"
   ]
  },
  {
   "cell_type": "code",
   "execution_count": 5,
   "id": "d8d4b3ce-5012-4895-9cb2-a998b9196cf2",
   "metadata": {},
   "outputs": [],
   "source": [
    "# Step 1 - Apply standard scaling\n",
    "from sklearn.preprocessing import StandardScaler\n",
    "scaler = StandardScaler()\n",
    "\n",
    "df.iloc[:,0:3] = scaler.fit_transform(df.iloc[:,0:3])"
   ]
  },
  {
   "cell_type": "code",
   "execution_count": 6,
   "id": "92e0c541-64df-48d5-b416-0db77628e1fe",
   "metadata": {},
   "outputs": [
    {
     "name": "stdout",
     "output_type": "stream",
     "text": [
      "Covariance Matrix:\n",
      " [[1.02564103 0.20478114 0.080118  ]\n",
      " [0.20478114 1.02564103 0.19838882]\n",
      " [0.080118   0.19838882 1.02564103]]\n"
     ]
    }
   ],
   "source": [
    "# Step 2 - Find Covariance Matrix\n",
    "covariance_matrix = np.cov([df.iloc[:,0],df.iloc[:,1],df.iloc[:,2]])\n",
    "print('Covariance Matrix:\\n', covariance_matrix)"
   ]
  },
  {
   "cell_type": "code",
   "execution_count": 8,
   "id": "dac91acc-25aa-4bee-b5ff-5f9b31b54d6a",
   "metadata": {},
   "outputs": [],
   "source": [
    "# Step 3 - Finding EV and EVs\n",
    "eigen_values, eigen_vectors = np.linalg.eig(covariance_matrix)\n"
   ]
  },
  {
   "cell_type": "code",
   "execution_count": 9,
   "id": "01d4dd26-025b-436e-9057-a0643b22a90b",
   "metadata": {},
   "outputs": [
    {
     "data": {
      "text/plain": [
       "array([1.3536065 , 0.94557084, 0.77774573])"
      ]
     },
     "execution_count": 9,
     "metadata": {},
     "output_type": "execute_result"
    }
   ],
   "source": [
    "eigen_values\n"
   ]
  },
  {
   "cell_type": "code",
   "execution_count": 10,
   "id": "6085e8bc-ce9a-4a1b-b400-babf24492d10",
   "metadata": {},
   "outputs": [
    {
     "data": {
      "text/plain": [
       "array([[-0.53875915, -0.69363291,  0.47813384],\n",
       "       [-0.65608325, -0.01057596, -0.75461442],\n",
       "       [-0.52848211,  0.72025103,  0.44938304]])"
      ]
     },
     "execution_count": 10,
     "metadata": {},
     "output_type": "execute_result"
    }
   ],
   "source": [
    "eigen_vectors"
   ]
  },
  {
   "cell_type": "code",
   "execution_count": 14,
   "id": "2a7adfdc-e562-4359-9d7a-e630bea7ec0f",
   "metadata": {},
   "outputs": [],
   "source": [
    "\n",
    "# import plotly.graph_objects as go\n",
    "\n",
    "# fig = px.scatter_3d(df, x=df['feature1'], y=df['feature2'], z=df['feature3'],\n",
    "#               color=df['target'].astype('str'))\n",
    "# fig.update_traces(marker=dict(size=12,\n",
    "#                               line=dict(width=2,\n",
    "#                                         color='DarkSlateGrey')),\n",
    "#                   selector=dict(mode='markers'))\n",
    "\n",
    "# # Add eigen vectors to the plot\n",
    "# for i in range(3):\n",
    "#   fig.add_trace(go.Scatter3d(\n",
    "#       x=[0, eigen_vectors[0][i]],\n",
    "#       y=[0, eigen_vectors[1][i]],\n",
    "#       z=[0, eigen_vectors[2][i]],\n",
    "#       mode='lines',\n",
    "#       line=dict(color='red', width=3)\n",
    "#   ))\n",
    "\n",
    "\n",
    "# fig.show()\n"
   ]
  },
  {
   "cell_type": "code",
   "execution_count": 15,
   "id": "e06575ff-271f-421e-a643-592d59dd507c",
   "metadata": {},
   "outputs": [
    {
     "data": {
      "text/plain": [
       "array([[-0.53875915, -0.69363291,  0.47813384],\n",
       "       [-0.65608325, -0.01057596, -0.75461442]])"
      ]
     },
     "execution_count": 15,
     "metadata": {},
     "output_type": "execute_result"
    }
   ],
   "source": [
    "pc = eigen_vectors[0:2]\n",
    "pc"
   ]
  },
  {
   "cell_type": "code",
   "execution_count": 16,
   "id": "849b4975-e339-41c2-a9a8-0491cf6f75b4",
   "metadata": {},
   "outputs": [
    {
     "data": {
      "text/html": [
       "<div>\n",
       "<style scoped>\n",
       "    .dataframe tbody tr th:only-of-type {\n",
       "        vertical-align: middle;\n",
       "    }\n",
       "\n",
       "    .dataframe tbody tr th {\n",
       "        vertical-align: top;\n",
       "    }\n",
       "\n",
       "    .dataframe thead th {\n",
       "        text-align: right;\n",
       "    }\n",
       "</style>\n",
       "<table border=\"1\" class=\"dataframe\">\n",
       "  <thead>\n",
       "    <tr style=\"text-align: right;\">\n",
       "      <th></th>\n",
       "      <th>PC1</th>\n",
       "      <th>PC2</th>\n",
       "      <th>target</th>\n",
       "    </tr>\n",
       "  </thead>\n",
       "  <tbody>\n",
       "    <tr>\n",
       "      <th>0</th>\n",
       "      <td>0.599433</td>\n",
       "      <td>1.795862</td>\n",
       "      <td>1</td>\n",
       "    </tr>\n",
       "    <tr>\n",
       "      <th>1</th>\n",
       "      <td>1.056919</td>\n",
       "      <td>-0.212737</td>\n",
       "      <td>0</td>\n",
       "    </tr>\n",
       "    <tr>\n",
       "      <th>2</th>\n",
       "      <td>-0.271876</td>\n",
       "      <td>0.498222</td>\n",
       "      <td>1</td>\n",
       "    </tr>\n",
       "    <tr>\n",
       "      <th>3</th>\n",
       "      <td>-0.621586</td>\n",
       "      <td>0.023110</td>\n",
       "      <td>1</td>\n",
       "    </tr>\n",
       "    <tr>\n",
       "      <th>4</th>\n",
       "      <td>1.567286</td>\n",
       "      <td>1.730967</td>\n",
       "      <td>1</td>\n",
       "    </tr>\n",
       "  </tbody>\n",
       "</table>\n",
       "</div>"
      ],
      "text/plain": [
       "        PC1       PC2  target\n",
       "0  0.599433  1.795862       1\n",
       "1  1.056919 -0.212737       0\n",
       "2 -0.271876  0.498222       1\n",
       "3 -0.621586  0.023110       1\n",
       "4  1.567286  1.730967       1"
      ]
     },
     "execution_count": 16,
     "metadata": {},
     "output_type": "execute_result"
    }
   ],
   "source": [
    "transformed_df = np.dot(df.iloc[:,0:3],pc.T)\n",
    "# 40,3 - 3,2\n",
    "new_df = pd.DataFrame(transformed_df,columns=['PC1','PC2'])\n",
    "new_df['target'] = df['target'].values\n",
    "new_df.head()"
   ]
  },
  {
   "cell_type": "code",
   "execution_count": 23,
   "id": "07ee1557-3129-48cc-a230-916a447f0889",
   "metadata": {},
   "outputs": [],
   "source": [
    "# import plotly.io as pio\n",
    "# pio.renderers.default = 'notebook'  # For classic Jupyter Notebook\n",
    "\n",
    "# new_df['target'] = new_df['target'].astype('str')\n",
    "# fig = px.scatter(x=new_df['PC1'],\n",
    "#                  y=new_df['PC2'],\n",
    "#                  color=new_df['target'],\n",
    "#                  color_discrete_sequence=px.colors.qualitative.G10\n",
    "#                 )\n",
    "\n",
    "# fig.update_traces(marker=dict(size=12,\n",
    "#                               line=dict(width=2,\n",
    "#                                         color='DarkSlateGrey')),\n",
    "#                   selector=dict(mode='markers'))\n",
    "# fig.show()\n",
    "     "
   ]
  },
  {
   "cell_type": "code",
   "execution_count": null,
   "id": "5e9b753d-f2a9-4e1f-8039-095b4282d404",
   "metadata": {},
   "outputs": [],
   "source": []
  }
 ],
 "metadata": {
  "kernelspec": {
   "display_name": "harshkernel",
   "language": "python",
   "name": "harshkernel"
  },
  "language_info": {
   "codemirror_mode": {
    "name": "ipython",
    "version": 3
   },
   "file_extension": ".py",
   "mimetype": "text/x-python",
   "name": "python",
   "nbconvert_exporter": "python",
   "pygments_lexer": "ipython3",
   "version": "3.11.5"
  }
 },
 "nbformat": 4,
 "nbformat_minor": 5
}
