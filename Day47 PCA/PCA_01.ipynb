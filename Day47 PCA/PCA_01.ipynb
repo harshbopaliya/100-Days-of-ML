{
 "cells": [
  {
   "cell_type": "code",
   "execution_count": 2,
   "id": "37f58ab6-5b6c-4626-939e-16a23b24fa59",
   "metadata": {},
   "outputs": [],
   "source": [
    "#pca is feature extraction techniques ->curse of dimensionality reduce "
   ]
  },
  {
   "cell_type": "code",
   "execution_count": 3,
   "id": "92b0f98c-a480-4be2-bf59-80fc370d873b",
   "metadata": {},
   "outputs": [],
   "source": [
    "# how pca work ?"
   ]
  },
  {
   "cell_type": "code",
   "execution_count": 4,
   "id": "9b7515ef-e92b-4cf3-9c83-554506a36a86",
   "metadata": {},
   "outputs": [],
   "source": [
    "#pca is technique which can transfrom higher dimension data into lower dimension data while keeping accent of data(keep behaviour of data)"
   ]
  },
  {
   "cell_type": "markdown",
   "id": "2c3754a1-a8a1-46d8-946d-ed8b750803c2",
   "metadata": {},
   "source": [
    "# reason for use\n",
    "1. training data size less in terms of dimensions -> faster exe/run of algo\n",
    "2. visualization "
   ]
  },
  {
   "cell_type": "code",
   "execution_count": 5,
   "id": "1a06bb7a-8ed9-453f-b4e4-9b464b2a1669",
   "metadata": {},
   "outputs": [],
   "source": [
    "# two feature selection and feature extraction"
   ]
  },
  {
   "cell_type": "code",
   "execution_count": 6,
   "id": "89bb2a67-262c-4383-a14e-f1085a0187c4",
   "metadata": {},
   "outputs": [],
   "source": [
    "# feature selection means select feature and reduce unnecessary features"
   ]
  },
  {
   "cell_type": "code",
   "execution_count": 7,
   "id": "a6595501-a259-4c28-aed2-d0664bcdc783",
   "metadata": {},
   "outputs": [],
   "source": [
    "#two input cols remove grocery shop -> feature selection "
   ]
  },
  {
   "cell_type": "code",
   "execution_count": 8,
   "id": "36e8f022-7d01-4614-af9e-206036287e22",
   "metadata": {},
   "outputs": [],
   "source": [
    "# when domain knowledge not about data then use mathematical techniques:\n",
    "# plot scatter between features \n",
    "# if individuals feature then select room -> data spread in both x,y select this -> variance"
   ]
  },
  {
   "cell_type": "code",
   "execution_count": 9,
   "id": "8c3156ed-8cb2-4a0a-9a2b-96b193500b0f",
   "metadata": {},
   "outputs": [],
   "source": [
    "# when spread of data is same in both features then we use feature extraction "
   ]
  },
  {
   "cell_type": "code",
   "execution_count": 10,
   "id": "39238f8c-d36c-499e-a2cc-9d9ca81a859b",
   "metadata": {},
   "outputs": [],
   "source": [
    "# feature extraction\n",
    "# room washroom price -> room and washroom merge -> size"
   ]
  },
  {
   "cell_type": "code",
   "execution_count": 11,
   "id": "36caa112-9e53-468f-b709-d64e8e8a81ec",
   "metadata": {},
   "outputs": [],
   "source": [
    "#pca construction new features\n",
    "# as a ds i dont know domain knowledge for gemortric institutions "
   ]
  },
  {
   "cell_type": "code",
   "execution_count": 13,
   "id": "6cc8d659-ee5a-4000-88c6-44fb8f7f825e",
   "metadata": {},
   "outputs": [],
   "source": [
    "# pc1 -> room' and pc2-> washroom'\n",
    "# no of pc <= n -> n is no of orginal feature"
   ]
  },
  {
   "cell_type": "code",
   "execution_count": 14,
   "id": "e1d64009-6cdf-4ab3-9a4c-a344bb11e989",
   "metadata": {},
   "outputs": [],
   "source": [
    "#variance spread check->"
   ]
  },
  {
   "cell_type": "code",
   "execution_count": 16,
   "id": "6fb6b40c-315d-4f3c-b943-8905ba3c4ecd",
   "metadata": {},
   "outputs": [],
   "source": [
    "#mean -> stastical measure  ->central tredancy"
   ]
  },
  {
   "cell_type": "code",
   "execution_count": 18,
   "id": "5069f49e-8165-4b75-b328-da7880b9c30e",
   "metadata": {},
   "outputs": [],
   "source": [
    "#spread more -> var more -> propstional "
   ]
  },
  {
   "cell_type": "code",
   "execution_count": 19,
   "id": "4ae00dcf-78d0-4e64-a081-deed2f61991a",
   "metadata": {},
   "outputs": [],
   "source": [
    "# mean absoulte deaviation -> this is not differentiable "
   ]
  },
  {
   "cell_type": "code",
   "execution_count": null,
   "id": "e616fa9e-58ff-44f5-84de-015bda0dc538",
   "metadata": {},
   "outputs": [],
   "source": []
  }
 ],
 "metadata": {
  "kernelspec": {
   "display_name": "harshkernel",
   "language": "python",
   "name": "harshkernel"
  },
  "language_info": {
   "codemirror_mode": {
    "name": "ipython",
    "version": 3
   },
   "file_extension": ".py",
   "mimetype": "text/x-python",
   "name": "python",
   "nbconvert_exporter": "python",
   "pygments_lexer": "ipython3",
   "version": "3.11.5"
  }
 },
 "nbformat": 4,
 "nbformat_minor": 5
}
