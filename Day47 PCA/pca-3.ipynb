{
 "cells": [
  {
   "cell_type": "markdown",
   "id": "5e0b3288-8d19-4289-86ac-d931e5006268",
   "metadata": {},
   "source": [
    "# pca mainly use for \n",
    "1. data dimensionality reduce \n",
    "2. visualization "
   ]
  },
  {
   "cell_type": "code",
   "execution_count": null,
   "id": "1f962332-a891-4def-9de4-1b17736bd3bd",
   "metadata": {},
   "outputs": [],
   "source": []
  }
 ],
 "metadata": {
  "kernelspec": {
   "display_name": "Python 3 (ipykernel)",
   "language": "python",
   "name": "python3"
  },
  "language_info": {
   "codemirror_mode": {
    "name": "ipython",
    "version": 3
   },
   "file_extension": ".py",
   "mimetype": "text/x-python",
   "name": "python",
   "nbconvert_exporter": "python",
   "pygments_lexer": "ipython3",
   "version": "3.11.5"
  }
 },
 "nbformat": 4,
 "nbformat_minor": 5
}
