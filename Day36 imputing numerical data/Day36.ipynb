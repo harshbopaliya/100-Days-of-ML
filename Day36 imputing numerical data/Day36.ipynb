{
 "cells": [
  {
   "cell_type": "code",
   "execution_count": 1,
   "id": "49b539cf-edb1-4b35-b87a-5906851a6116",
   "metadata": {},
   "outputs": [],
   "source": [
    "# handling missing value"
   ]
  },
  {
   "cell_type": "code",
   "execution_count": null,
   "id": "8285d22c-52af-4af9-a19e-fb43a9a1ea50",
   "metadata": {},
   "outputs": [],
   "source": [
    "#univariate "
   ]
  }
 ],
 "metadata": {
  "kernelspec": {
   "display_name": "harshkernel",
   "language": "python",
   "name": "harshkernel"
  },
  "language_info": {
   "codemirror_mode": {
    "name": "ipython",
    "version": 3
   },
   "file_extension": ".py",
   "mimetype": "text/x-python",
   "name": "python",
   "nbconvert_exporter": "python",
   "pygments_lexer": "ipython3",
   "version": "3.11.5"
  }
 },
 "nbformat": 4,
 "nbformat_minor": 5
}
