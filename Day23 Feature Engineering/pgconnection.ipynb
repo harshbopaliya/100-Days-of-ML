{
 "cells": [
  {
   "cell_type": "code",
   "execution_count": 3,
   "id": "9426733b-4d87-4904-baf6-905f89f31496",
   "metadata": {},
   "outputs": [],
   "source": [
    "import psycopg2"
   ]
  },
  {
   "cell_type": "code",
   "execution_count": 10,
   "id": "c6768935-dee9-4576-8cb1-75fee5ee0c06",
   "metadata": {},
   "outputs": [],
   "source": [
    "hostname = 'localhost'\n",
    "database ='demo'\n",
    "username = 'postgres'\n",
    "pwd='harsh'\n",
    "port_id=5432"
   ]
  },
  {
   "cell_type": "code",
   "execution_count": 19,
   "id": "fa91a43f-2e07-4959-93a0-4dcc8159ecd6",
   "metadata": {},
   "outputs": [],
   "source": [
    "conn = None\n",
    "cur = None\n",
    "try:\n",
    "    conn = psycopg2.connect(\n",
    "        host=hostname,\n",
    "        dbname=database,\n",
    "        user=username,\n",
    "        password=pwd,\n",
    "        port=port_id)\n",
    "    cur = conn.cursor()\n",
    "    create_script = ''' CREATE TABLE IF NOT EXISTS employee(\n",
    "                        id int PRIMARY KEY,\n",
    "                        name varchar(40) NOT NULL,\n",
    "                        salary int,\n",
    "                        dept_id varchar(30))'''\n",
    "    cur.execute(create_script)\n",
    "    insert_script = 'insert into employee (id,name,salary,dept_id) values (%s,%s,%s,%s)'\n",
    "    insert_value = (1,'harsh',12000,'D1')\n",
    "\n",
    "    cur.execute(insert_script,insert_value)\n",
    "\n",
    "    conn.commit()\n",
    "\n",
    "except Exception as error:\n",
    "    print(error)\n",
    "finally:\n",
    "    if cur is not None:\n",
    "        cur.close()\n",
    "    if cur is not None:\n",
    "        conn.close()"
   ]
  },
  {
   "cell_type": "code",
   "execution_count": null,
   "id": "b31e9661-8753-4e17-9d3d-e71aac2510f8",
   "metadata": {},
   "outputs": [],
   "source": []
  },
  {
   "cell_type": "code",
   "execution_count": null,
   "id": "29156d99-0454-4202-b72c-c0e157522282",
   "metadata": {},
   "outputs": [],
   "source": []
  },
  {
   "cell_type": "code",
   "execution_count": null,
   "id": "e4d8b234-7b1d-4289-882f-ea0d0bf90a91",
   "metadata": {},
   "outputs": [],
   "source": []
  },
  {
   "cell_type": "code",
   "execution_count": null,
   "id": "4c12e7d8-0d5f-43f9-b080-9d74dfea98c3",
   "metadata": {},
   "outputs": [],
   "source": []
  }
 ],
 "metadata": {
  "kernelspec": {
   "display_name": "harshkernel",
   "language": "python",
   "name": "harshkernel"
  },
  "language_info": {
   "codemirror_mode": {
    "name": "ipython",
    "version": 3
   },
   "file_extension": ".py",
   "mimetype": "text/x-python",
   "name": "python",
   "nbconvert_exporter": "python",
   "pygments_lexer": "ipython3",
   "version": "3.11.5"
  }
 },
 "nbformat": 4,
 "nbformat_minor": 5
}
